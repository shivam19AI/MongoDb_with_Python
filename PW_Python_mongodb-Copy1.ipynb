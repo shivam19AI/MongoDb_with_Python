{
 "cells": [
  {
   "cell_type": "markdown",
   "id": "6fe58725",
   "metadata": {},
   "source": [
    "### PyMongo is the official MongoDB driver for Python. It is a Python library that allows you to interact with MongoDB from Python, and it provides a simple and convenient way to connect to MongoDB, query data, and perform CRUD operations on collections."
   ]
  },
  {
   "cell_type": "markdown",
   "id": "04cb077f",
   "metadata": {},
   "source": [
    "### In MongoDB, a document is a JSON-like structure that represents an instance of data. Documents can have fields with values of different data types, including strings, numbers, arrays, and nested documents. Documents are the fundamental unit of data in MongoDB, and they are stored in collections."
   ]
  },
  {
   "cell_type": "markdown",
   "id": "f66520d1",
   "metadata": {},
   "source": [
    "### In MongoDB, a collection is a set of documents."
   ]
  },
  {
   "cell_type": "markdown",
   "id": "86126264",
   "metadata": {},
   "source": [
    "### MongoDB is a document-oriented database management system that stores data as documents in a binary representation called BSON (Binary JSON). BSON provides a flexible data model that allows you to store data in a variety of structures, and it supports rich data types such as arrays, dates, and binary data."
   ]
  },
  {
   "cell_type": "code",
   "execution_count": null,
   "id": "d4291fb1",
   "metadata": {},
   "outputs": [],
   "source": []
  },
  {
   "cell_type": "code",
   "execution_count": 2,
   "id": "13d710ea",
   "metadata": {},
   "outputs": [],
   "source": [
    "import pymongo\n",
    "#client = pymongo.MongoClient(\"mongodb:localhost\")\n",
    "#db = client.test\n"
   ]
  },
  {
   "cell_type": "code",
   "execution_count": 1,
   "id": "8de15f58",
   "metadata": {},
   "outputs": [],
   "source": [
    "#pip install pymongo"
   ]
  },
  {
   "cell_type": "code",
   "execution_count": 6,
   "id": "d29830d9",
   "metadata": {},
   "outputs": [],
   "source": [
    "# connection url client"
   ]
  },
  {
   "cell_type": "code",
   "execution_count": 8,
   "id": "3f4be081",
   "metadata": {},
   "outputs": [],
   "source": [
    "# mongodb : document bassed database -> collection"
   ]
  },
  {
   "cell_type": "code",
   "execution_count": 19,
   "id": "9fd7a208",
   "metadata": {},
   "outputs": [],
   "source": [
    "db = client['pwskills']"
   ]
  },
  {
   "cell_type": "code",
   "execution_count": 20,
   "id": "c3e08faf",
   "metadata": {},
   "outputs": [],
   "source": [
    "data = {\"name\":\"sudh\",\n",
    "       \"class\":\"data science master\",\n",
    "       \"time\":\"flexi\"}"
   ]
  },
  {
   "cell_type": "code",
   "execution_count": 21,
   "id": "be559e61",
   "metadata": {},
   "outputs": [],
   "source": [
    "coll_pwskills = db[\"my_record\"]"
   ]
  },
  {
   "cell_type": "code",
   "execution_count": 22,
   "id": "e3e836de",
   "metadata": {},
   "outputs": [
    {
     "data": {
      "text/plain": [
       "<pymongo.results.InsertOneResult at 0x23f90ef9490>"
      ]
     },
     "execution_count": 22,
     "metadata": {},
     "output_type": "execute_result"
    }
   ],
   "source": [
    "coll_pwskills.insert_one(data)"
   ]
  },
  {
   "cell_type": "code",
   "execution_count": 23,
   "id": "48b6b8fe",
   "metadata": {},
   "outputs": [],
   "source": [
    "# pwskills : database name\n",
    "# my_record : collection"
   ]
  },
  {
   "cell_type": "code",
   "execution_count": 63,
   "id": "e7c88de1",
   "metadata": {},
   "outputs": [],
   "source": [
    "# insert,find,update and insert operation"
   ]
  },
  {
   "cell_type": "code",
   "execution_count": 25,
   "id": "94969a91",
   "metadata": {},
   "outputs": [],
   "source": [
    "data1 = {\"mail_id\":\"sudg@gmail.com\",\n",
    "         \"phone_number\":235455435,\n",
    "         \"address\":\"bangalore\"\n",
    "    \n",
    "}"
   ]
  },
  {
   "cell_type": "code",
   "execution_count": 26,
   "id": "1cafd98d",
   "metadata": {},
   "outputs": [
    {
     "data": {
      "text/plain": [
       "<pymongo.results.InsertOneResult at 0x23f9150ab20>"
      ]
     },
     "execution_count": 26,
     "metadata": {},
     "output_type": "execute_result"
    }
   ],
   "source": [
    "coll_pwskills.insert_one(data1)"
   ]
  },
  {
   "cell_type": "code",
   "execution_count": 27,
   "id": "78007dd4",
   "metadata": {},
   "outputs": [],
   "source": [
    "# data and data1 : document"
   ]
  },
  {
   "cell_type": "code",
   "execution_count": 28,
   "id": "78e64923",
   "metadata": {},
   "outputs": [],
   "source": [
    "data2 = [\n",
    "  { \"name\": \"Amy\", \"address\": \"Apple st 652\" },\n",
    "  { \"name\": \"Hannah\", \"address\": \"Mountain 21\" },\n",
    "  { \"name\": \"Michael\", \"address\": \"Valley 345\" },\n",
    "  { \"name\": \"Sandy\", \"address\": \"Ocean blvd 2\" },\n",
    "  { \"name\": \"Betty\", \"address\": \"Green Grass 1\" },\n",
    "  { \"name\": \"Richard\", \"address\": \"Sky st 331\" },\n",
    "  { \"name\": \"Susan\", \"address\": \"One way 98\" },\n",
    "  { \"name\": \"Vicky\", \"address\": \"Yellow Garden 2\" },\n",
    "  { \"name\": \"Ben\", \"address\": \"Park Lane 38\" },\n",
    "  { \"name\": \"William\", \"address\": \"Central st 954\" },\n",
    "  { \"name\": \"Chuck\", \"address\": \"Main Road 989\" },\n",
    "  { \"name\": \"Viola\", \"address\": \"Sideway 1633\" }\n",
    "]"
   ]
  },
  {
   "cell_type": "code",
   "execution_count": 30,
   "id": "5b38b649",
   "metadata": {},
   "outputs": [
    {
     "data": {
      "text/plain": [
       "<pymongo.results.InsertManyResult at 0x23f915077c0>"
      ]
     },
     "execution_count": 30,
     "metadata": {},
     "output_type": "execute_result"
    }
   ],
   "source": [
    "coll_pwskills.insert_many(data2)"
   ]
  },
  {
   "cell_type": "code",
   "execution_count": 31,
   "id": "61cc8853",
   "metadata": {},
   "outputs": [],
   "source": [
    "data3 = {\n",
    " \"name\": \"notebook\",\n",
    " \"qty\": 50,\n",
    " \"rating\": [ { \"score\": 8 }, { \"score\": 9 } ],\n",
    " \"size\": { \"height\": 11, \"width\": 8.5, \"unit\": \"in\" },\n",
    " \"status\": \"A\",\n",
    " \"tags\": [ \"college-ruled\", \"perforated\"]\n",
    "}"
   ]
  },
  {
   "cell_type": "code",
   "execution_count": 32,
   "id": "f1f6e69b",
   "metadata": {},
   "outputs": [
    {
     "data": {
      "text/plain": [
       "<pymongo.results.InsertOneResult at 0x23f91507ee0>"
      ]
     },
     "execution_count": 32,
     "metadata": {},
     "output_type": "execute_result"
    }
   ],
   "source": [
    "coll_pwskills.insert_one(data3)"
   ]
  },
  {
   "cell_type": "code",
   "execution_count": 33,
   "id": "1bea30c2",
   "metadata": {},
   "outputs": [],
   "source": [
    "list_of_records = [\n",
    "    {'companyName': 'iNeuron',\n",
    "     'product': 'Affordable AI',\n",
    "     'courseOffered': 'Machine Learning with Deployment'},\n",
    "    \n",
    "    {'companyName': 'iNeuron',\n",
    "     'product': 'Affordable AI',\n",
    "     'courseOffered': 'Deep Learning for NLP and Computer vision'},\n",
    "    \n",
    "    {'companyName': 'iNeuron',\n",
    "     'product': 'Master Program',\n",
    "     'courseOffered': 'Data Science Masters Program'}\n",
    "]"
   ]
  },
  {
   "cell_type": "code",
   "execution_count": 34,
   "id": "5e2235cb",
   "metadata": {},
   "outputs": [
    {
     "data": {
      "text/plain": [
       "<pymongo.results.InsertManyResult at 0x23f91501220>"
      ]
     },
     "execution_count": 34,
     "metadata": {},
     "output_type": "execute_result"
    }
   ],
   "source": [
    "coll_pwskills.insert_many(list_of_records)"
   ]
  },
  {
   "cell_type": "code",
   "execution_count": null,
   "id": "fd1d2fdf",
   "metadata": {},
   "outputs": [],
   "source": []
  },
  {
   "cell_type": "code",
   "execution_count": 35,
   "id": "aa9b8e44",
   "metadata": {},
   "outputs": [
    {
     "data": {
      "text/plain": [
       "{'_id': ObjectId('63f0594f4cc00dbdfb5e6fde'),\n",
       " 'name': 'sudh',\n",
       " 'class': 'data science master',\n",
       " 'time': 'flexi'}"
      ]
     },
     "execution_count": 35,
     "metadata": {},
     "output_type": "execute_result"
    }
   ],
   "source": [
    "coll_pwskills.find_one()"
   ]
  },
  {
   "cell_type": "code",
   "execution_count": 36,
   "id": "942d4a29",
   "metadata": {},
   "outputs": [
    {
     "data": {
      "text/plain": [
       "<pymongo.cursor.Cursor at 0x23f91581d60>"
      ]
     },
     "execution_count": 36,
     "metadata": {},
     "output_type": "execute_result"
    }
   ],
   "source": [
    "coll_pwskills.find()"
   ]
  },
  {
   "cell_type": "code",
   "execution_count": 37,
   "id": "51049fea",
   "metadata": {},
   "outputs": [
    {
     "name": "stdout",
     "output_type": "stream",
     "text": [
      "{'_id': ObjectId('63f0594f4cc00dbdfb5e6fde'), 'name': 'sudh', 'class': 'data science master', 'time': 'flexi'}\n",
      "{'_id': ObjectId('63f05ac84cc00dbdfb5e6fdf'), 'mail_id': 'sudg@gmail.com', 'phone_number': 235455435, 'address': 'bangalore'}\n",
      "{'_id': ObjectId('63f05cf84cc00dbdfb5e6fe0'), 'name': 'Amy', 'address': 'Apple st 652'}\n",
      "{'_id': ObjectId('63f05cf84cc00dbdfb5e6fe1'), 'name': 'Hannah', 'address': 'Mountain 21'}\n",
      "{'_id': ObjectId('63f05cf84cc00dbdfb5e6fe2'), 'name': 'Michael', 'address': 'Valley 345'}\n",
      "{'_id': ObjectId('63f05cf84cc00dbdfb5e6fe3'), 'name': 'Sandy', 'address': 'Ocean blvd 2'}\n",
      "{'_id': ObjectId('63f05cf84cc00dbdfb5e6fe4'), 'name': 'Betty', 'address': 'Green Grass 1'}\n",
      "{'_id': ObjectId('63f05cf84cc00dbdfb5e6fe5'), 'name': 'Richard', 'address': 'Sky st 331'}\n",
      "{'_id': ObjectId('63f05cf84cc00dbdfb5e6fe6'), 'name': 'Susan', 'address': 'One way 98'}\n",
      "{'_id': ObjectId('63f05cf84cc00dbdfb5e6fe7'), 'name': 'Vicky', 'address': 'Yellow Garden 2'}\n",
      "{'_id': ObjectId('63f05cf84cc00dbdfb5e6fe8'), 'name': 'Ben', 'address': 'Park Lane 38'}\n",
      "{'_id': ObjectId('63f05cf84cc00dbdfb5e6fe9'), 'name': 'William', 'address': 'Central st 954'}\n",
      "{'_id': ObjectId('63f05cf84cc00dbdfb5e6fea'), 'name': 'Chuck', 'address': 'Main Road 989'}\n",
      "{'_id': ObjectId('63f05cf84cc00dbdfb5e6feb'), 'name': 'Viola', 'address': 'Sideway 1633'}\n",
      "{'_id': ObjectId('63f05daf4cc00dbdfb5e6fec'), 'name': 'notebook', 'qty': 50, 'rating': [{'score': 8}, {'score': 9}], 'size': {'height': 11, 'width': 8.5, 'unit': 'in'}, 'status': 'A', 'tags': ['college-ruled', 'perforated']}\n",
      "{'_id': ObjectId('63f05e854cc00dbdfb5e6fed'), 'companyName': 'iNeuron', 'product': 'Affordable AI', 'courseOffered': 'Machine Learning with Deployment'}\n",
      "{'_id': ObjectId('63f05e854cc00dbdfb5e6fee'), 'companyName': 'iNeuron', 'product': 'Affordable AI', 'courseOffered': 'Deep Learning for NLP and Computer vision'}\n",
      "{'_id': ObjectId('63f05e854cc00dbdfb5e6fef'), 'companyName': 'iNeuron', 'product': 'Master Program', 'courseOffered': 'Data Science Masters Program'}\n"
     ]
    }
   ],
   "source": [
    "for i in coll_pwskills.find():\n",
    "    print(i)"
   ]
  },
  {
   "cell_type": "code",
   "execution_count": 38,
   "id": "97f1bab1",
   "metadata": {},
   "outputs": [
    {
     "data": {
      "text/plain": [
       "<pymongo.cursor.Cursor at 0x23f9150a100>"
      ]
     },
     "execution_count": 38,
     "metadata": {},
     "output_type": "execute_result"
    }
   ],
   "source": [
    "coll_pwskills.find({'name':'sudh'})"
   ]
  },
  {
   "cell_type": "code",
   "execution_count": 39,
   "id": "57c92876",
   "metadata": {},
   "outputs": [
    {
     "name": "stdout",
     "output_type": "stream",
     "text": [
      "{'_id': ObjectId('63f0594f4cc00dbdfb5e6fde'), 'name': 'sudh', 'class': 'data science master', 'time': 'flexi'}\n"
     ]
    }
   ],
   "source": [
    "for i in coll_pwskills.find({'name':'sudh'}):\n",
    "    print(i)"
   ]
  },
  {
   "cell_type": "code",
   "execution_count": 40,
   "id": "530f810d",
   "metadata": {},
   "outputs": [
    {
     "name": "stdout",
     "output_type": "stream",
     "text": [
      "{'_id': ObjectId('63f05e854cc00dbdfb5e6fed'), 'companyName': 'iNeuron', 'product': 'Affordable AI', 'courseOffered': 'Machine Learning with Deployment'}\n",
      "{'_id': ObjectId('63f05e854cc00dbdfb5e6fee'), 'companyName': 'iNeuron', 'product': 'Affordable AI', 'courseOffered': 'Deep Learning for NLP and Computer vision'}\n",
      "{'_id': ObjectId('63f05e854cc00dbdfb5e6fef'), 'companyName': 'iNeuron', 'product': 'Master Program', 'courseOffered': 'Data Science Masters Program'}\n"
     ]
    }
   ],
   "source": [
    "for i in coll_pwskills.find({'companyName':'iNeuron'}):\n",
    "    print(i)"
   ]
  },
  {
   "cell_type": "code",
   "execution_count": 41,
   "id": "24d677bb",
   "metadata": {},
   "outputs": [],
   "source": [
    "random_data = [\n",
    "    {'_id': '3', 'companyName': 'iNeuron', 'Faculty': 'XYZ'},\n",
    "    {'_id': '4', 'companyName': 'iNeuron', 'Faculty': 'ABC'},\n",
    "    {'_id': '5', 'companyName': 'iNeuron', 'Faculty': 'PQR'},\n",
    "]"
   ]
  },
  {
   "cell_type": "code",
   "execution_count": 42,
   "id": "2ca79155",
   "metadata": {},
   "outputs": [
    {
     "data": {
      "text/plain": [
       "<pymongo.results.InsertManyResult at 0x23f915a0ac0>"
      ]
     },
     "execution_count": 42,
     "metadata": {},
     "output_type": "execute_result"
    }
   ],
   "source": [
    "coll_pwskills.insert_many(random_data)"
   ]
  },
  {
   "cell_type": "code",
   "execution_count": 44,
   "id": "30ab79de",
   "metadata": {},
   "outputs": [
    {
     "data": {
      "text/plain": [
       "<pymongo.cursor.Cursor at 0x23f91610280>"
      ]
     },
     "execution_count": 44,
     "metadata": {},
     "output_type": "execute_result"
    }
   ],
   "source": [
    "coll_pwskills.find()"
   ]
  },
  {
   "cell_type": "code",
   "execution_count": 45,
   "id": "48d09ebd",
   "metadata": {},
   "outputs": [
    {
     "name": "stdout",
     "output_type": "stream",
     "text": [
      "{'_id': ObjectId('63f0594f4cc00dbdfb5e6fde'), 'name': 'sudh', 'class': 'data science master', 'time': 'flexi'}\n",
      "{'_id': ObjectId('63f05ac84cc00dbdfb5e6fdf'), 'mail_id': 'sudg@gmail.com', 'phone_number': 235455435, 'address': 'bangalore'}\n",
      "{'_id': ObjectId('63f05cf84cc00dbdfb5e6fe0'), 'name': 'Amy', 'address': 'Apple st 652'}\n",
      "{'_id': ObjectId('63f05cf84cc00dbdfb5e6fe1'), 'name': 'Hannah', 'address': 'Mountain 21'}\n",
      "{'_id': ObjectId('63f05cf84cc00dbdfb5e6fe2'), 'name': 'Michael', 'address': 'Valley 345'}\n",
      "{'_id': ObjectId('63f05cf84cc00dbdfb5e6fe3'), 'name': 'Sandy', 'address': 'Ocean blvd 2'}\n",
      "{'_id': ObjectId('63f05cf84cc00dbdfb5e6fe4'), 'name': 'Betty', 'address': 'Green Grass 1'}\n",
      "{'_id': ObjectId('63f05cf84cc00dbdfb5e6fe5'), 'name': 'Richard', 'address': 'Sky st 331'}\n",
      "{'_id': ObjectId('63f05cf84cc00dbdfb5e6fe6'), 'name': 'Susan', 'address': 'One way 98'}\n",
      "{'_id': ObjectId('63f05cf84cc00dbdfb5e6fe7'), 'name': 'Vicky', 'address': 'Yellow Garden 2'}\n",
      "{'_id': ObjectId('63f05cf84cc00dbdfb5e6fe8'), 'name': 'Ben', 'address': 'Park Lane 38'}\n",
      "{'_id': ObjectId('63f05cf84cc00dbdfb5e6fe9'), 'name': 'William', 'address': 'Central st 954'}\n",
      "{'_id': ObjectId('63f05cf84cc00dbdfb5e6fea'), 'name': 'Chuck', 'address': 'Main Road 989'}\n",
      "{'_id': ObjectId('63f05cf84cc00dbdfb5e6feb'), 'name': 'Viola', 'address': 'Sideway 1633'}\n",
      "{'_id': ObjectId('63f05daf4cc00dbdfb5e6fec'), 'name': 'notebook', 'qty': 50, 'rating': [{'score': 8}, {'score': 9}], 'size': {'height': 11, 'width': 8.5, 'unit': 'in'}, 'status': 'A', 'tags': ['college-ruled', 'perforated']}\n",
      "{'_id': ObjectId('63f05e854cc00dbdfb5e6fed'), 'companyName': 'iNeuron', 'product': 'Affordable AI', 'courseOffered': 'Machine Learning with Deployment'}\n",
      "{'_id': ObjectId('63f05e854cc00dbdfb5e6fee'), 'companyName': 'iNeuron', 'product': 'Affordable AI', 'courseOffered': 'Deep Learning for NLP and Computer vision'}\n",
      "{'_id': ObjectId('63f05e854cc00dbdfb5e6fef'), 'companyName': 'iNeuron', 'product': 'Master Program', 'courseOffered': 'Data Science Masters Program'}\n",
      "{'_id': '3', 'companyName': 'iNeuron', 'Faculty': 'XYZ'}\n",
      "{'_id': '4', 'companyName': 'iNeuron', 'Faculty': 'ABC'}\n",
      "{'_id': '5', 'companyName': 'iNeuron', 'Faculty': 'PQR'}\n"
     ]
    }
   ],
   "source": [
    "for i in coll_pwskills.find():\n",
    "    print(i)"
   ]
  },
  {
   "cell_type": "code",
   "execution_count": 47,
   "id": "bb99f923",
   "metadata": {},
   "outputs": [
    {
     "data": {
      "text/plain": [
       "<pymongo.cursor.Cursor at 0x23f915a3b50>"
      ]
     },
     "execution_count": 47,
     "metadata": {},
     "output_type": "execute_result"
    }
   ],
   "source": [
    "coll_pwskills.find({\"_id\":{\"$gte\":4}})"
   ]
  },
  {
   "cell_type": "code",
   "execution_count": 50,
   "id": "944e4c43",
   "metadata": {},
   "outputs": [
    {
     "name": "stdout",
     "output_type": "stream",
     "text": [
      "{'_id': '4', 'companyName': 'iNeuron', 'Faculty': 'ABC'}\n",
      "{'_id': '5', 'companyName': 'iNeuron', 'Faculty': 'PQR'}\n"
     ]
    }
   ],
   "source": [
    "for i in coll_pwskills.find({\"_id\":{\"$gte\":'4'}}):\n",
    "    print(i)"
   ]
  },
  {
   "cell_type": "code",
   "execution_count": 53,
   "id": "acaf8175",
   "metadata": {},
   "outputs": [
    {
     "name": "stdout",
     "output_type": "stream",
     "text": [
      "{'_id': '5', 'companyName': 'iNeuron', 'Faculty': 'PQR'}\n"
     ]
    }
   ],
   "source": [
    "for i in coll_pwskills.find({\"_id\":{\"$gt\":'4'}}):\n",
    "    print(i)"
   ]
  },
  {
   "cell_type": "code",
   "execution_count": 55,
   "id": "3f32179c",
   "metadata": {},
   "outputs": [
    {
     "name": "stdout",
     "output_type": "stream",
     "text": [
      "{'_id': '3', 'companyName': 'iNeuron', 'Faculty': 'XYZ'}\n",
      "{'_id': '4', 'companyName': 'iNeuron', 'Faculty': 'ABC'}\n"
     ]
    }
   ],
   "source": [
    "for i in coll_pwskills.find({\"_id\":{\"$lte\":'4'}}):\n",
    "    print(i)"
   ]
  },
  {
   "cell_type": "code",
   "execution_count": 58,
   "id": "e197381e",
   "metadata": {},
   "outputs": [
    {
     "name": "stdout",
     "output_type": "stream",
     "text": [
      "{'_id': '4', 'companyName': 'iNeuron', 'Faculty': 'ABC'}\n"
     ]
    }
   ],
   "source": [
    "for i in coll_pwskills.find({\"_id\":'4'}):\n",
    "    print(i)"
   ]
  },
  {
   "cell_type": "code",
   "execution_count": 62,
   "id": "b80ca5f4",
   "metadata": {},
   "outputs": [],
   "source": [
    "# data update"
   ]
  },
  {
   "cell_type": "code",
   "execution_count": 59,
   "id": "20cc091b",
   "metadata": {},
   "outputs": [
    {
     "data": {
      "text/plain": [
       "<pymongo.results.UpdateResult at 0x23f915a32e0>"
      ]
     },
     "execution_count": 59,
     "metadata": {},
     "output_type": "execute_result"
    }
   ],
   "source": [
    "coll_pwskills.update_many({'companyName':'iNeuron'},{\"$set\":{'companyName':'pwskills'}})"
   ]
  },
  {
   "cell_type": "code",
   "execution_count": 60,
   "id": "aad86b5e",
   "metadata": {},
   "outputs": [
    {
     "name": "stdout",
     "output_type": "stream",
     "text": [
      "{'_id': ObjectId('63f0594f4cc00dbdfb5e6fde'), 'name': 'sudh', 'class': 'data science master', 'time': 'flexi'}\n",
      "{'_id': ObjectId('63f05ac84cc00dbdfb5e6fdf'), 'mail_id': 'sudg@gmail.com', 'phone_number': 235455435, 'address': 'bangalore'}\n",
      "{'_id': ObjectId('63f05cf84cc00dbdfb5e6fe0'), 'name': 'Amy', 'address': 'Apple st 652'}\n",
      "{'_id': ObjectId('63f05cf84cc00dbdfb5e6fe1'), 'name': 'Hannah', 'address': 'Mountain 21'}\n",
      "{'_id': ObjectId('63f05cf84cc00dbdfb5e6fe2'), 'name': 'Michael', 'address': 'Valley 345'}\n",
      "{'_id': ObjectId('63f05cf84cc00dbdfb5e6fe3'), 'name': 'Sandy', 'address': 'Ocean blvd 2'}\n",
      "{'_id': ObjectId('63f05cf84cc00dbdfb5e6fe4'), 'name': 'Betty', 'address': 'Green Grass 1'}\n",
      "{'_id': ObjectId('63f05cf84cc00dbdfb5e6fe5'), 'name': 'Richard', 'address': 'Sky st 331'}\n",
      "{'_id': ObjectId('63f05cf84cc00dbdfb5e6fe6'), 'name': 'Susan', 'address': 'One way 98'}\n",
      "{'_id': ObjectId('63f05cf84cc00dbdfb5e6fe7'), 'name': 'Vicky', 'address': 'Yellow Garden 2'}\n",
      "{'_id': ObjectId('63f05cf84cc00dbdfb5e6fe8'), 'name': 'Ben', 'address': 'Park Lane 38'}\n",
      "{'_id': ObjectId('63f05cf84cc00dbdfb5e6fe9'), 'name': 'William', 'address': 'Central st 954'}\n",
      "{'_id': ObjectId('63f05cf84cc00dbdfb5e6fea'), 'name': 'Chuck', 'address': 'Main Road 989'}\n",
      "{'_id': ObjectId('63f05cf84cc00dbdfb5e6feb'), 'name': 'Viola', 'address': 'Sideway 1633'}\n",
      "{'_id': ObjectId('63f05daf4cc00dbdfb5e6fec'), 'name': 'notebook', 'qty': 50, 'rating': [{'score': 8}, {'score': 9}], 'size': {'height': 11, 'width': 8.5, 'unit': 'in'}, 'status': 'A', 'tags': ['college-ruled', 'perforated']}\n",
      "{'_id': ObjectId('63f05e854cc00dbdfb5e6fed'), 'companyName': 'pwskills', 'product': 'Affordable AI', 'courseOffered': 'Machine Learning with Deployment'}\n",
      "{'_id': ObjectId('63f05e854cc00dbdfb5e6fee'), 'companyName': 'pwskills', 'product': 'Affordable AI', 'courseOffered': 'Deep Learning for NLP and Computer vision'}\n",
      "{'_id': ObjectId('63f05e854cc00dbdfb5e6fef'), 'companyName': 'pwskills', 'product': 'Master Program', 'courseOffered': 'Data Science Masters Program'}\n",
      "{'_id': '3', 'companyName': 'pwskills', 'Faculty': 'XYZ'}\n",
      "{'_id': '4', 'companyName': 'pwskills', 'Faculty': 'ABC'}\n",
      "{'_id': '5', 'companyName': 'pwskills', 'Faculty': 'PQR'}\n"
     ]
    }
   ],
   "source": [
    "for i in coll_pwskills.find():\n",
    "    print(i)"
   ]
  },
  {
   "cell_type": "code",
   "execution_count": null,
   "id": "28a88187",
   "metadata": {},
   "outputs": [],
   "source": []
  },
  {
   "cell_type": "code",
   "execution_count": 70,
   "id": "5c299a42",
   "metadata": {},
   "outputs": [],
   "source": [
    "db1 = client['pwskills1']"
   ]
  },
  {
   "cell_type": "code",
   "execution_count": 71,
   "id": "7608fe91",
   "metadata": {},
   "outputs": [],
   "source": [
    "coll_pwskills1 = db1['my_record1']"
   ]
  },
  {
   "cell_type": "code",
   "execution_count": 72,
   "id": "fb2b5e95",
   "metadata": {},
   "outputs": [],
   "source": [
    "data5 = [\n",
    "    {'companyName': 'iNeuron',\n",
    "     'product': 'Affordable AI',\n",
    "     'courseOffered': 'Machine Learning with Deployment'},\n",
    "    \n",
    "    {'companyName': 'iNeuron',\n",
    "     'product': 'Affordable AI',\n",
    "     'courseOffered': 'Deep Learning for NLP and Computer vision'},\n",
    "    \n",
    "    {'companyName': 'iNeuron',\n",
    "     'product': 'Master Program',\n",
    "     'courseOffered': 'Data Science Masters Program'}\n",
    "]"
   ]
  },
  {
   "cell_type": "code",
   "execution_count": 73,
   "id": "9a3a0732",
   "metadata": {},
   "outputs": [
    {
     "data": {
      "text/plain": [
       "<pymongo.results.InsertManyResult at 0x23f91581640>"
      ]
     },
     "execution_count": 73,
     "metadata": {},
     "output_type": "execute_result"
    }
   ],
   "source": [
    "coll_pwskills1.insert_many(data5)"
   ]
  },
  {
   "cell_type": "code",
   "execution_count": 74,
   "id": "780c7c7c",
   "metadata": {},
   "outputs": [],
   "source": [
    "data6 = {\"hello\":\"world\",\"key\":\"value\"}"
   ]
  },
  {
   "cell_type": "code",
   "execution_count": 75,
   "id": "fb702bf4",
   "metadata": {},
   "outputs": [
    {
     "data": {
      "text/plain": [
       "<pymongo.results.InsertOneResult at 0x23f8eec1c10>"
      ]
     },
     "execution_count": 75,
     "metadata": {},
     "output_type": "execute_result"
    }
   ],
   "source": [
    "coll_pwskills1.insert_one(data6)"
   ]
  },
  {
   "cell_type": "code",
   "execution_count": 76,
   "id": "8db4f7ef",
   "metadata": {},
   "outputs": [],
   "source": [
    "# find"
   ]
  },
  {
   "cell_type": "code",
   "execution_count": 77,
   "id": "6dac5ce9",
   "metadata": {},
   "outputs": [
    {
     "name": "stdout",
     "output_type": "stream",
     "text": [
      "{'_id': ObjectId('63f06a104cc00dbdfb5e6ff0'), 'companyName': 'iNeuron', 'product': 'Affordable AI', 'courseOffered': 'Machine Learning with Deployment'}\n",
      "{'_id': ObjectId('63f06a104cc00dbdfb5e6ff1'), 'companyName': 'iNeuron', 'product': 'Affordable AI', 'courseOffered': 'Deep Learning for NLP and Computer vision'}\n",
      "{'_id': ObjectId('63f06a104cc00dbdfb5e6ff2'), 'companyName': 'iNeuron', 'product': 'Master Program', 'courseOffered': 'Data Science Masters Program'}\n",
      "{'_id': ObjectId('63f06aad4cc00dbdfb5e6ff3'), 'companyName': 'iNeuron', 'product': 'Affordable AI', 'courseOffered': 'Machine Learning with Deployment'}\n",
      "{'_id': ObjectId('63f06aad4cc00dbdfb5e6ff4'), 'companyName': 'iNeuron', 'product': 'Affordable AI', 'courseOffered': 'Deep Learning for NLP and Computer vision'}\n",
      "{'_id': ObjectId('63f06aad4cc00dbdfb5e6ff5'), 'companyName': 'iNeuron', 'product': 'Master Program', 'courseOffered': 'Data Science Masters Program'}\n",
      "{'_id': ObjectId('63f06b074cc00dbdfb5e6ff6'), 'hello': 'world', 'key': 'value'}\n"
     ]
    }
   ],
   "source": [
    "for i in coll_pwskills1.find():\n",
    "    print(i)"
   ]
  },
  {
   "cell_type": "code",
   "execution_count": 78,
   "id": "b12c296b",
   "metadata": {},
   "outputs": [],
   "source": [
    "random_data1 = [\n",
    "    {'_id': '3', 'companyName': 'iNeuron', 'Faculty': 'XYZ'},\n",
    "    {'_id': '4', 'companyName': 'iNeuron', 'Faculty': 'ABC'},\n",
    "    {'_id': '5', 'companyName': 'iNeuron', 'Faculty': 'PQR'},\n",
    "]"
   ]
  },
  {
   "cell_type": "code",
   "execution_count": 79,
   "id": "2f2ea85a",
   "metadata": {},
   "outputs": [
    {
     "data": {
      "text/plain": [
       "<pymongo.results.InsertManyResult at 0x23f90f4bee0>"
      ]
     },
     "execution_count": 79,
     "metadata": {},
     "output_type": "execute_result"
    }
   ],
   "source": [
    "coll_pwskills1.insert_many(random_data1)"
   ]
  },
  {
   "cell_type": "code",
   "execution_count": 81,
   "id": "88af6c9c",
   "metadata": {},
   "outputs": [
    {
     "name": "stdout",
     "output_type": "stream",
     "text": [
      "{'_id': '3', 'companyName': 'iNeuron', 'Faculty': 'XYZ'}\n",
      "{'_id': '4', 'companyName': 'iNeuron', 'Faculty': 'ABC'}\n",
      "{'_id': '5', 'companyName': 'iNeuron', 'Faculty': 'PQR'}\n"
     ]
    }
   ],
   "source": [
    "for i in coll_pwskills1.find({'_id':{\"$gte\":'2'}}):\n",
    "    print(i)"
   ]
  },
  {
   "cell_type": "code",
   "execution_count": 82,
   "id": "82458c40",
   "metadata": {},
   "outputs": [
    {
     "data": {
      "text/plain": [
       "<pymongo.results.UpdateResult at 0x23f9110fb80>"
      ]
     },
     "execution_count": 82,
     "metadata": {},
     "output_type": "execute_result"
    }
   ],
   "source": [
    "coll_pwskills1.update_many({'companyName':'iNeuron'},{\"$set\":{'companyName':'pwskills'}})"
   ]
  },
  {
   "cell_type": "code",
   "execution_count": 83,
   "id": "e52b0d97",
   "metadata": {},
   "outputs": [
    {
     "name": "stdout",
     "output_type": "stream",
     "text": [
      "{'_id': ObjectId('63f06a104cc00dbdfb5e6ff0'), 'companyName': 'pwskills', 'product': 'Affordable AI', 'courseOffered': 'Machine Learning with Deployment'}\n",
      "{'_id': ObjectId('63f06a104cc00dbdfb5e6ff1'), 'companyName': 'pwskills', 'product': 'Affordable AI', 'courseOffered': 'Deep Learning for NLP and Computer vision'}\n",
      "{'_id': ObjectId('63f06a104cc00dbdfb5e6ff2'), 'companyName': 'pwskills', 'product': 'Master Program', 'courseOffered': 'Data Science Masters Program'}\n",
      "{'_id': ObjectId('63f06aad4cc00dbdfb5e6ff3'), 'companyName': 'pwskills', 'product': 'Affordable AI', 'courseOffered': 'Machine Learning with Deployment'}\n",
      "{'_id': ObjectId('63f06aad4cc00dbdfb5e6ff4'), 'companyName': 'pwskills', 'product': 'Affordable AI', 'courseOffered': 'Deep Learning for NLP and Computer vision'}\n",
      "{'_id': ObjectId('63f06aad4cc00dbdfb5e6ff5'), 'companyName': 'pwskills', 'product': 'Master Program', 'courseOffered': 'Data Science Masters Program'}\n",
      "{'_id': ObjectId('63f06b074cc00dbdfb5e6ff6'), 'hello': 'world', 'key': 'value'}\n",
      "{'_id': '3', 'companyName': 'pwskills', 'Faculty': 'XYZ'}\n",
      "{'_id': '4', 'companyName': 'pwskills', 'Faculty': 'ABC'}\n",
      "{'_id': '5', 'companyName': 'pwskills', 'Faculty': 'PQR'}\n"
     ]
    }
   ],
   "source": [
    "for i in coll_pwskills1.find():\n",
    "    print(i)"
   ]
  },
  {
   "cell_type": "code",
   "execution_count": 84,
   "id": "5a28cdf4",
   "metadata": {},
   "outputs": [],
   "source": [
    "# sort the result alphabetically by name"
   ]
  },
  {
   "cell_type": "code",
   "execution_count": 89,
   "id": "b381f650",
   "metadata": {},
   "outputs": [],
   "source": [
    "# sort(\"name\",1) : ascending\n",
    "# sort(\"name\",-1): descending"
   ]
  },
  {
   "cell_type": "code",
   "execution_count": 86,
   "id": "ca50ede8",
   "metadata": {},
   "outputs": [
    {
     "data": {
      "text/plain": [
       "<pymongo.cursor.Cursor at 0x23f914ec1c0>"
      ]
     },
     "execution_count": 86,
     "metadata": {},
     "output_type": "execute_result"
    }
   ],
   "source": [
    "coll_pwskills1.find().sort(\"companyName\")"
   ]
  },
  {
   "cell_type": "code",
   "execution_count": 87,
   "id": "6f92c3fd",
   "metadata": {},
   "outputs": [
    {
     "name": "stdout",
     "output_type": "stream",
     "text": [
      "{'_id': ObjectId('63f06b074cc00dbdfb5e6ff6'), 'hello': 'world', 'key': 'value'}\n",
      "{'_id': ObjectId('63f06a104cc00dbdfb5e6ff0'), 'companyName': 'pwskills', 'product': 'Affordable AI', 'courseOffered': 'Machine Learning with Deployment'}\n",
      "{'_id': ObjectId('63f06a104cc00dbdfb5e6ff1'), 'companyName': 'pwskills', 'product': 'Affordable AI', 'courseOffered': 'Deep Learning for NLP and Computer vision'}\n",
      "{'_id': ObjectId('63f06a104cc00dbdfb5e6ff2'), 'companyName': 'pwskills', 'product': 'Master Program', 'courseOffered': 'Data Science Masters Program'}\n",
      "{'_id': ObjectId('63f06aad4cc00dbdfb5e6ff3'), 'companyName': 'pwskills', 'product': 'Affordable AI', 'courseOffered': 'Machine Learning with Deployment'}\n",
      "{'_id': ObjectId('63f06aad4cc00dbdfb5e6ff4'), 'companyName': 'pwskills', 'product': 'Affordable AI', 'courseOffered': 'Deep Learning for NLP and Computer vision'}\n",
      "{'_id': ObjectId('63f06aad4cc00dbdfb5e6ff5'), 'companyName': 'pwskills', 'product': 'Master Program', 'courseOffered': 'Data Science Masters Program'}\n",
      "{'_id': '3', 'companyName': 'pwskills', 'Faculty': 'XYZ'}\n",
      "{'_id': '4', 'companyName': 'pwskills', 'Faculty': 'ABC'}\n",
      "{'_id': '5', 'companyName': 'pwskills', 'Faculty': 'PQR'}\n"
     ]
    }
   ],
   "source": [
    "for i in coll_pwskills1.find().sort(\"companyName\"):\n",
    "    print(i)"
   ]
  },
  {
   "cell_type": "code",
   "execution_count": 88,
   "id": "7c2b7d9f",
   "metadata": {},
   "outputs": [
    {
     "name": "stdout",
     "output_type": "stream",
     "text": [
      "{'_id': ObjectId('63f06a104cc00dbdfb5e6ff0'), 'companyName': 'pwskills', 'product': 'Affordable AI', 'courseOffered': 'Machine Learning with Deployment'}\n",
      "{'_id': ObjectId('63f06a104cc00dbdfb5e6ff1'), 'companyName': 'pwskills', 'product': 'Affordable AI', 'courseOffered': 'Deep Learning for NLP and Computer vision'}\n",
      "{'_id': ObjectId('63f06a104cc00dbdfb5e6ff2'), 'companyName': 'pwskills', 'product': 'Master Program', 'courseOffered': 'Data Science Masters Program'}\n",
      "{'_id': ObjectId('63f06aad4cc00dbdfb5e6ff3'), 'companyName': 'pwskills', 'product': 'Affordable AI', 'courseOffered': 'Machine Learning with Deployment'}\n",
      "{'_id': ObjectId('63f06aad4cc00dbdfb5e6ff4'), 'companyName': 'pwskills', 'product': 'Affordable AI', 'courseOffered': 'Deep Learning for NLP and Computer vision'}\n",
      "{'_id': ObjectId('63f06aad4cc00dbdfb5e6ff5'), 'companyName': 'pwskills', 'product': 'Master Program', 'courseOffered': 'Data Science Masters Program'}\n",
      "{'_id': '3', 'companyName': 'pwskills', 'Faculty': 'XYZ'}\n",
      "{'_id': '4', 'companyName': 'pwskills', 'Faculty': 'ABC'}\n",
      "{'_id': '5', 'companyName': 'pwskills', 'Faculty': 'PQR'}\n",
      "{'_id': ObjectId('63f06b074cc00dbdfb5e6ff6'), 'hello': 'world', 'key': 'value'}\n"
     ]
    }
   ],
   "source": [
    "for i in coll_pwskills1.find().sort(\"companyName\",-1):\n",
    "    print(i)"
   ]
  },
  {
   "cell_type": "code",
   "execution_count": null,
   "id": "73e45ed1",
   "metadata": {},
   "outputs": [],
   "source": []
  },
  {
   "cell_type": "code",
   "execution_count": 90,
   "id": "258cb5b7",
   "metadata": {},
   "outputs": [],
   "source": [
    "# delete document"
   ]
  },
  {
   "cell_type": "code",
   "execution_count": 95,
   "id": "da788dcf",
   "metadata": {},
   "outputs": [
    {
     "data": {
      "text/plain": [
       "<pymongo.results.DeleteResult at 0x23f91501070>"
      ]
     },
     "execution_count": 95,
     "metadata": {},
     "output_type": "execute_result"
    }
   ],
   "source": [
    "coll_pwskills1.delete_one({'hello':'world','key':'value'})"
   ]
  },
  {
   "cell_type": "code",
   "execution_count": 96,
   "id": "cd13f28e",
   "metadata": {},
   "outputs": [
    {
     "name": "stdout",
     "output_type": "stream",
     "text": [
      "{'_id': ObjectId('63f06a104cc00dbdfb5e6ff0'), 'companyName': 'pwskills', 'product': 'Affordable AI', 'courseOffered': 'Machine Learning with Deployment'}\n",
      "{'_id': ObjectId('63f06a104cc00dbdfb5e6ff1'), 'companyName': 'pwskills', 'product': 'Affordable AI', 'courseOffered': 'Deep Learning for NLP and Computer vision'}\n",
      "{'_id': ObjectId('63f06a104cc00dbdfb5e6ff2'), 'companyName': 'pwskills', 'product': 'Master Program', 'courseOffered': 'Data Science Masters Program'}\n",
      "{'_id': ObjectId('63f06aad4cc00dbdfb5e6ff3'), 'companyName': 'pwskills', 'product': 'Affordable AI', 'courseOffered': 'Machine Learning with Deployment'}\n",
      "{'_id': ObjectId('63f06aad4cc00dbdfb5e6ff4'), 'companyName': 'pwskills', 'product': 'Affordable AI', 'courseOffered': 'Deep Learning for NLP and Computer vision'}\n",
      "{'_id': ObjectId('63f06aad4cc00dbdfb5e6ff5'), 'companyName': 'pwskills', 'product': 'Master Program', 'courseOffered': 'Data Science Masters Program'}\n",
      "{'_id': '3', 'companyName': 'pwskills', 'Faculty': 'XYZ'}\n",
      "{'_id': '4', 'companyName': 'pwskills', 'Faculty': 'ABC'}\n",
      "{'_id': '5', 'companyName': 'pwskills', 'Faculty': 'PQR'}\n"
     ]
    }
   ],
   "source": [
    "for i in coll_pwskills1.find():\n",
    "    print(i)"
   ]
  },
  {
   "cell_type": "code",
   "execution_count": null,
   "id": "441f66b8",
   "metadata": {},
   "outputs": [],
   "source": []
  },
  {
   "cell_type": "code",
   "execution_count": 97,
   "id": "1c00573e",
   "metadata": {},
   "outputs": [],
   "source": [
    "# You can delete a table, or collection as it is called in MongoDB, by using the drop() method."
   ]
  },
  {
   "cell_type": "code",
   "execution_count": 98,
   "id": "511f6bff",
   "metadata": {},
   "outputs": [],
   "source": [
    "# The drop() method returns true if the collection was dropped successfully, and false if the collection does not exist.\n",
    "\n"
   ]
  },
  {
   "cell_type": "code",
   "execution_count": null,
   "id": "7be2cfe9",
   "metadata": {},
   "outputs": [],
   "source": []
  },
  {
   "cell_type": "code",
   "execution_count": 99,
   "id": "d2495f3e",
   "metadata": {},
   "outputs": [],
   "source": [
    "# The limit() method takes one parameter, a number defining how many documents to return."
   ]
  },
  {
   "cell_type": "code",
   "execution_count": 100,
   "id": "3e197f60",
   "metadata": {},
   "outputs": [
    {
     "data": {
      "text/plain": [
       "<pymongo.cursor.Cursor at 0x23f91501730>"
      ]
     },
     "execution_count": 100,
     "metadata": {},
     "output_type": "execute_result"
    }
   ],
   "source": [
    "coll_pwskills1.find().limit(3)"
   ]
  },
  {
   "cell_type": "code",
   "execution_count": 101,
   "id": "0b822a81",
   "metadata": {},
   "outputs": [
    {
     "name": "stdout",
     "output_type": "stream",
     "text": [
      "{'_id': ObjectId('63f06a104cc00dbdfb5e6ff0'), 'companyName': 'pwskills', 'product': 'Affordable AI', 'courseOffered': 'Machine Learning with Deployment'}\n",
      "{'_id': ObjectId('63f06a104cc00dbdfb5e6ff1'), 'companyName': 'pwskills', 'product': 'Affordable AI', 'courseOffered': 'Deep Learning for NLP and Computer vision'}\n",
      "{'_id': ObjectId('63f06a104cc00dbdfb5e6ff2'), 'companyName': 'pwskills', 'product': 'Master Program', 'courseOffered': 'Data Science Masters Program'}\n"
     ]
    }
   ],
   "source": [
    "for i in coll_pwskills1.find().limit(3):\n",
    "    print(i)"
   ]
  },
  {
   "cell_type": "code",
   "execution_count": null,
   "id": "d71205c4",
   "metadata": {},
   "outputs": [],
   "source": []
  }
 ],
 "metadata": {
  "kernelspec": {
   "display_name": "Python 3 (ipykernel)",
   "language": "python",
   "name": "python3"
  },
  "language_info": {
   "codemirror_mode": {
    "name": "ipython",
    "version": 3
   },
   "file_extension": ".py",
   "mimetype": "text/x-python",
   "name": "python",
   "nbconvert_exporter": "python",
   "pygments_lexer": "ipython3",
   "version": "3.9.12"
  }
 },
 "nbformat": 4,
 "nbformat_minor": 5
}
